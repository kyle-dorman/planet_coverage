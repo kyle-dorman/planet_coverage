{
 "cells": [
  {
   "cell_type": "markdown",
   "id": "997513c2-5c95-4bb9-944e-c1d7379903d8",
   "metadata": {},
   "source": [
    "# DuckDB + Parquet Data Exploration Template"
   ]
  },
  {
   "cell_type": "code",
   "execution_count": null,
   "id": "c4a8991d-9b51-4869-8aa1-7199bd7cc168",
   "metadata": {},
   "outputs": [],
   "source": [
    "import pandas as pd\n",
    "import geopandas as gpd\n",
    "import numpy as np\n",
    "import matplotlib.pyplot as plt\n",
    "import folium\n",
    "from pathlib import Path\n",
    "from tqdm import tqdm\n",
    "from branca.colormap import linear"
   ]
  },
  {
   "cell_type": "markdown",
   "id": "3eb8fff9-14d0-46f0-86a6-826aa299b5f8",
   "metadata": {},
   "source": [
    "# --- Configuration ---"
   ]
  },
  {
   "cell_type": "code",
   "execution_count": null,
   "id": "5acb31cc-f061-428b-8863-c2251351bc84",
   "metadata": {},
   "outputs": [],
   "source": [
    "pths = list(Path(\"/Users/kyledorman/data/planet_coverage/points_30km/skysat/results\").glob(\"*/*/*/*/data.parquet\"))\n",
    "len(pths)"
   ]
  },
  {
   "cell_type": "code",
   "execution_count": null,
   "id": "748a6870-5050-4f70-8c11-9a44f9e1355c",
   "metadata": {},
   "outputs": [],
   "source": [
    "from shapely import wkb\n",
    "import tqdm\n",
    "\n",
    "for pth in tqdm.tqdm(pths):\n",
    "    # load the parquet into pandas to rebuild geometries\n",
    "    df_pd: pd.DataFrame = pd.read_parquet(pth)\n",
    "    df_pd[\"geometry\"] = df_pd[\"geometry_wkb\"].apply(wkb.loads)  # type: ignore\n",
    "    df_pd = df_pd.drop(columns=[\"geometry_wkb\"])\n",
    "    satellite_gdf = gpd.GeoDataFrame(df_pd, geometry=\"geometry\", crs=\"EPSG:4326\")\n",
    "    if not satellite_gdf.geometry.is_valid.all():\n",
    "        print(\"orig\", pth)\n",
    "    proj_gdf = satellite_gdf.to_crs(orig_crs)\n",
    "    if not proj_gdf.geometry.is_valid.all():\n",
    "        print(\"proj\", pth)"
   ]
  },
  {
   "cell_type": "code",
   "execution_count": null,
   "id": "f2497bdb-bef2-4eec-9078-81267d56129b",
   "metadata": {},
   "outputs": [],
   "source": [
    "pth = '/Users/kyledorman/data/planet_coverage/points_30km/skysat/results/2019/00/40/10/data.parquet'\n",
    "df_pd: pd.DataFrame = pd.read_parquet(pth)\n",
    "df_pd[\"geometry\"] = df_pd[\"geometry_wkb\"].apply(wkb.loads)  # type: ignore\n",
    "satellite_gdf = gpd.GeoDataFrame(df_pd, geometry=\"geometry\", crs=\"EPSG:4326\")\n",
    "\n",
    "satellite_gdf.geometry = satellite_gdf.geometry.make_valid()\n",
    "proj_gdf = satellite_gdf.to_crs(orig_crs)\n",
    "valid = proj_gdf.geometry.is_valid\n",
    "\n",
    "proj_gdf.geometry = proj_gdf.geometry.make_valid()\n",
    "\n",
    "m = folium.Map(\n",
    "    location=[satellite_gdf.geometry.centroid.y.mean(), satellite_gdf.geometry.centroid.x.mean()], \n",
    "    zoom_start=4, \n",
    "    tiles=\"CartoDB positron\",\n",
    "    width=1000,\n",
    "    height=600\n",
    ")\n",
    "\n",
    "for _, row in proj_gdf.to_crs(satellite_gdf.crs)[~valid].iterrows():\n",
    "    folium.GeoJson(\n",
    "        row.geometry,\n",
    "    ).add_to(m)\n",
    "\n",
    "m\n",
    "    "
   ]
  },
  {
   "cell_type": "code",
   "execution_count": null,
   "id": "76d7d488-22fa-4e4f-8f03-75b024e60d49",
   "metadata": {},
   "outputs": [],
   "source": [
    "BASE = Path(\"/Users/kyledorman/data/planet_coverage/ca_only/\")  # <-- update this"
   ]
  },
  {
   "cell_type": "code",
   "execution_count": null,
   "id": "356f78e9-07c5-4468-98d7-3667c1958238",
   "metadata": {},
   "outputs": [],
   "source": [
    "ca_ocean = gpd.read_file(BASE / \"ca_ocean.geojson\")\n",
    "orig_crs = gpd.read_file(BASE / \"ocean_grids.gpkg\").crs\n",
    "query_df = gpd.read_file(BASE / \"ocean_grids.gpkg\").to_crs(ca_ocean.crs)\n",
    "grids_df = gpd.read_file(BASE / \"coastal_grids.gpkg\").to_crs(ca_ocean.crs)\n",
    "\n",
    "query_ca = query_df[query_df.geometry.intersects(ca_ocean.union_all())]\n",
    "\n",
    "grids_ca = grids_df[grids_df.geometry.intersects(query_ca.union_all())]\n",
    "\n",
    "inter_df = gpd.read_file(BASE / \"coastal_skysat_dove_intersections.gpkg\").to_crs(ca_ocean.crs)\n",
    "inter_df['acquired_delta_minutes'] = (inter_df.acquired_delta_sec / 60).abs()\n",
    "inter_df['acquired_delta_hours'] = (inter_df.acquired_delta_sec / 60 / 60).abs()\n",
    "inter_df['dove_tide_height_abs'] = inter_df.dove_tide_height.abs()\n",
    "\n",
    "inter_df_10min = inter_df[inter_df.acquired_delta_minutes < 10]\n",
    "\n",
    "inter_df = inter_df.sort_values(by=[\"dove_id\", \"skysat_id\", \"cell_id\"]).drop_duplicates(subset=[\"dove_id\", \"skysat_id\"])\n",
    "inter_df_10min = inter_df_10min.sort_values(by=[\"dove_id\", \"skysat_id\", \"cell_id\"]).drop_duplicates(subset=[\"dove_id\", \"skysat_id\"])\n",
    "\n",
    "inter_df[\"pair_key\"] = list(zip(inter_df[\"dove_id\"], inter_df[\"skysat_id\"]))\n",
    "inter_df = inter_df.set_index(\"pair_key\", drop=True)\n",
    "assert not inter_df.index.duplicated().any(), \"Composite key isn’t unique!\"\n",
    "\n",
    "inter_df_10min[\"pair_key\"] = list(zip(inter_df_10min[\"dove_id\"], inter_df_10min[\"skysat_id\"]))\n",
    "inter_df_10min = inter_df_10min.set_index(\"pair_key\", drop=True)\n",
    "assert not inter_df_10min.index.duplicated().any(), \"Composite key isn’t unique!\"\n",
    "\n",
    "inter_df.head(5)"
   ]
  },
  {
   "cell_type": "code",
   "execution_count": null,
   "id": "2944e9ca-7d7b-421b-8dfd-72cdb218cac0",
   "metadata": {},
   "outputs": [],
   "source": [
    "def plot_df(df, column_name, title, zoom=7, show_grids: bool = True):\n",
    "    # --- Folium map for % ---\n",
    "    if df[column_name].max() == df[column_name].min():\n",
    "        scale_min = 0\n",
    "    else:\n",
    "        scale_min = df[column_name].min()\n",
    "    color_scale = linear.viridis.scale(scale_min, df[column_name].max())\n",
    "    \n",
    "    m = folium.Map(\n",
    "        location=[df.geometry.centroid.y.mean(), df.geometry.centroid.x.mean()], \n",
    "        zoom_start=zoom, \n",
    "        tiles=\"CartoDB positron\",\n",
    "        width=1000,\n",
    "        height=600\n",
    "    )\n",
    "\n",
    "    if show_grids:\n",
    "        for _, row in grids_ca.iterrows():\n",
    "            folium.GeoJson(\n",
    "                row.geometry,\n",
    "                tooltip=str(row[\"cell_id\"]),\n",
    "                style_function=lambda feature: {\n",
    "                    \"color\": \"blue\",\n",
    "                    \"weight\": 1,\n",
    "                }\n",
    "            ).add_to(m)\n",
    "\n",
    "    for grid_id, row in df.iterrows():\n",
    "        value = row[column_name]\n",
    "        geom = row.geometry\n",
    "        folium.GeoJson(\n",
    "            data=geom,\n",
    "            style_function=lambda f, col=color_scale(value): {\n",
    "                \"fillColor\": col,\n",
    "                \"color\":     col,      # outline same as fill\n",
    "                \"weight\":    1,\n",
    "                \"fillOpacity\": 0.1,\n",
    "            },\n",
    "            tooltip=f\"{grid_id}<br>{column_name}: {value:0.1f}\",\n",
    "        ).add_to(m)\n",
    "    \n",
    "    color_scale.caption = title\n",
    "    color_scale.add_to(m)\n",
    "    \n",
    "    return m"
   ]
  },
  {
   "cell_type": "code",
   "execution_count": null,
   "id": "da3393b9-50e7-4a97-ab1b-40f0b5e16b08",
   "metadata": {},
   "outputs": [],
   "source": [
    "limit_df = inter_df.sort_values(by=[\"skysat_id\", \"overlap_area\"], ascending=False).drop_duplicates(subset=[\"skysat_id\"])\n",
    "\n",
    "limit_df_10min = inter_df_10min.sort_values(by=[\"skysat_id\", \"overlap_area\"], ascending=False).drop_duplicates(subset=[\"skysat_id\"])\n",
    "\n",
    "print(len(limit_df), len(inter_df))\n",
    "print(len(limit_df_10min), len(inter_df_10min))"
   ]
  },
  {
   "cell_type": "code",
   "execution_count": null,
   "id": "ae8be5aa-e5df-4021-979e-7c391a38d846",
   "metadata": {},
   "outputs": [],
   "source": [
    "limit_df.head(5)"
   ]
  },
  {
   "cell_type": "code",
   "execution_count": null,
   "id": "d120bbd8-33e9-49e1-9bd7-72b6bc40c90b",
   "metadata": {},
   "outputs": [],
   "source": [
    "plot_df(limit_df, 'acquired_delta_hours', 'acquired_delta_hours', show_grids=False)"
   ]
  },
  {
   "cell_type": "code",
   "execution_count": null,
   "id": "589d6241-acae-4805-851d-b503c7c2c9ce",
   "metadata": {},
   "outputs": [],
   "source": [
    "plot_df(limit_df_10min, 'acquired_delta_hours', 'acquired_delta_hours', show_grids=False)"
   ]
  },
  {
   "cell_type": "code",
   "execution_count": null,
   "id": "0e7cdecb-c464-4ca0-9679-46a4aa180560",
   "metadata": {},
   "outputs": [],
   "source": [
    "coverage = limit_df.to_crs(orig_crs).union_all().simplify(1000, preserve_topology=True)\n",
    "coverage_df = gpd.GeoDataFrame(geometry=[coverage], crs=orig_crs).to_crs(ca_ocean.crs)\n",
    "\n",
    "coverage_df"
   ]
  },
  {
   "cell_type": "code",
   "execution_count": null,
   "id": "25061457-cafa-4f7a-8f57-ad7cabab9258",
   "metadata": {},
   "outputs": [],
   "source": [
    "m = folium.Map(\n",
    "    location=[coverage_df.geometry.iloc[0].centroid.y, coverage_df.geometry.iloc[0].centroid.x], \n",
    "    zoom_start=5, \n",
    "    tiles=\"CartoDB positron\",\n",
    "    width=1000,\n",
    "    height=600\n",
    ")\n",
    "folium.GeoJson(\n",
    "    data=coverage_df.geometry.iloc[0],\n",
    ").add_to(m)\n",
    "    \n",
    "m"
   ]
  },
  {
   "cell_type": "code",
   "execution_count": null,
   "id": "12b5e508-4c33-4568-86e5-b2ba374fbd19",
   "metadata": {},
   "outputs": [],
   "source": [
    "count_df = grids_ca.rename(columns={\"cell_id\": \"grid_id\"})[[\"grid_id\", \"geometry\"]].merge(\n",
    "    limit_df.groupby('grid_id').acquired_delta_sec.count(), on=[\"grid_id\"], how=\"inner\"\n",
    ").rename(columns={'acquired_delta_sec': 'counter'})\n",
    "\n",
    "# count_df.counter = count_df.counter.clip(0, 5)\n",
    "\n",
    "count_df"
   ]
  },
  {
   "cell_type": "code",
   "execution_count": null,
   "id": "bb4272cd-89cb-4ff8-be04-0a30e5cfe0d7",
   "metadata": {},
   "outputs": [],
   "source": [
    "plot_df(count_df, 'counter', 'per_grid_counts', show_grids=False)"
   ]
  },
  {
   "cell_type": "code",
   "execution_count": null,
   "id": "22733308-c883-4097-a8ec-9cbd800a34fb",
   "metadata": {},
   "outputs": [],
   "source": [
    "limit_df.dove_tide_height.hist()"
   ]
  },
  {
   "cell_type": "code",
   "execution_count": null,
   "id": "8fd5094a-fc6c-4c4e-9bdc-47dec4861a1c",
   "metadata": {},
   "outputs": [],
   "source": []
  }
 ],
 "metadata": {
  "kernelspec": {
   "display_name": "Python 3 (ipykernel)",
   "language": "python",
   "name": "python3"
  },
  "language_info": {
   "codemirror_mode": {
    "name": "ipython",
    "version": 3
   },
   "file_extension": ".py",
   "mimetype": "text/x-python",
   "name": "python",
   "nbconvert_exporter": "python",
   "pygments_lexer": "ipython3",
   "version": "3.11.11"
  }
 },
 "nbformat": 4,
 "nbformat_minor": 5
}
