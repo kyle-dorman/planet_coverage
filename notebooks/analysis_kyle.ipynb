{
 "cells": [
  {
   "cell_type": "code",
   "execution_count": null,
   "id": "c4a8991d-9b51-4869-8aa1-7199bd7cc168",
   "metadata": {},
   "outputs": [],
   "source": [
    "from pathlib import Path\n",
    "from tqdm import tqdm\n",
    "import json\n",
    "import pandas as pd\n",
    "import geopandas as gpd\n",
    "import numpy as np\n",
    "import matplotlib.pyplot as plt\n",
    "import cartopy.crs as ccrs\n",
    "import folium\n",
    "from shapely.geometry import Polygon, MultiPolygon, Point\n",
    "from random import shuffle\n",
    "import cartopy.crs as ccrs\n",
    "from matplotlib import colors, ticker\n",
    "\n",
    "\n",
    "from src.plotting.util import plot_gdf_column, load_grids\n",
    "\n",
    "import warnings\n",
    "warnings.filterwarnings(\"ignore\")  # hide every warning"
   ]
  },
  {
   "cell_type": "markdown",
   "id": "3eb8fff9-14d0-46f0-86a6-826aa299b5f8",
   "metadata": {},
   "source": [
    "# --- Configuration ---"
   ]
  },
  {
   "cell_type": "code",
   "execution_count": null,
   "id": "76d7d488-22fa-4e4f-8f03-75b024e60d49",
   "metadata": {},
   "outputs": [],
   "source": [
    "BASE = Path(\"/Users/kyledorman/data/planet_coverage/points_30km/\")\n",
    "SHORELINES = BASE.parent / \"shorelines\""
   ]
  },
  {
   "cell_type": "code",
   "execution_count": null,
   "id": "beda9618-644b-4b24-a634-6ee76ffb6b4b",
   "metadata": {},
   "outputs": [],
   "source": [
    "orig_grids_df = gpd.read_file(SHORELINES / \"coastal_grids.gpkg\")\n",
    "\n",
    "orig_grids_df.head(3)"
   ]
  },
  {
   "cell_type": "code",
   "execution_count": null,
   "id": "a8acfd70-1141-45de-9edd-d1896ff8d5fe",
   "metadata": {},
   "outputs": [],
   "source": [
    "cents = orig_grids_df.copy()\n",
    "cents.geometry = cents.geometry.centroid\n",
    "cents = cents.to_crs(\"EPSG:4326\")\n",
    "\n",
    "grids_df = orig_grids_df[\n",
    "    (~orig_grids_df.is_land) &\n",
    "    (orig_grids_df.dist_km < 20) &\n",
    "    (cents.geometry.centroid.y > -81.5) & \n",
    "    (cents.geometry.centroid.y < 81.5)\n",
    "].copy()\n",
    "\n",
    "len(grids_df)"
   ]
  },
  {
   "cell_type": "code",
   "execution_count": null,
   "id": "4e14b725-7d91-4f2f-801c-0b0f6dce69da",
   "metadata": {},
   "outputs": [],
   "source": [
    "merged = grids_df.union_all()\n",
    "len(merged.geoms)"
   ]
  },
  {
   "cell_type": "code",
   "execution_count": null,
   "id": "a36dbf7e-1516-4dd3-9ce6-a17401ae3c8e",
   "metadata": {},
   "outputs": [],
   "source": [
    "from random import shuffle\n",
    "import cartopy.crs as ccrs\n",
    "from matplotlib import colors, ticker\n",
    "\n",
    "mdf = gpd.GeoDataFrame(geometry=list(merged.geoms), crs=grids_df.crs)\n",
    "\n",
    "ids = list(range(len(mdf)))\n",
    "shuffle(ids)\n",
    "mdf[\"id\"] = ids\n",
    "\n",
    "n_ids  = mdf[\"id\"].nunique()\n",
    "base_cmap = plt.get_cmap(\"tab20\", n_ids)  # up to 20 unique colours\n",
    "cmap      = colors.ListedColormap(base_cmap(range(n_ids)))\n",
    "norm      = colors.BoundaryNorm(range(n_ids + 1), n_ids)\n",
    "\n",
    "# Pick any Cartopy projection\n",
    "proj = ccrs.Sinusoidal()           # or ccrs.Mollweide(), ccrs.Robinson(), …\n",
    "\n",
    "fig = plt.figure(figsize=(12, 6))\n",
    "ax  = plt.axes(projection=proj)\n",
    "ax.set_global()\n",
    "\n",
    "# Re-project your data on the fly with `transform`\n",
    "mdf.plot(\n",
    "    column=\"id\",\n",
    "    ax=ax,\n",
    "    cmap=cmap,\n",
    "    norm=norm,\n",
    "    linewidth=0.15,\n",
    "    edgecolor=\"black\",\n",
    "    transform=ccrs.Sinusoidal(),   # <- incoming lon/lat coords\n",
    ")\n",
    "plt.tight_layout()\n",
    "plt.show()"
   ]
  },
  {
   "cell_type": "code",
   "execution_count": null,
   "id": "e91f395a-4ee9-4d29-a180-7431d78d055c",
   "metadata": {},
   "outputs": [],
   "source": [
    "mdf.geometry = mdf.geometry.simplify(50, preserve_topology=True)\n",
    "mdf[\"garea\"] = mdf.geometry.area\n",
    "mdf = mdf.sort_values(by=\"garea\", ascending=False)"
   ]
  },
  {
   "cell_type": "code",
   "execution_count": null,
   "id": "02a55575-7a20-4b18-ab30-1228d0bed4f3",
   "metadata": {},
   "outputs": [],
   "source": [
    "from src.gen_points_map import compute_step, make_equal_area_hex_grid\n",
    "\n",
    "robinson_crs = \"ESRI:54030\"\n",
    "sinus_crs = \"ESRI:54008\"\n",
    "hex_size: float = 1.0\n",
    "cell_size_m = compute_step(hex_size)\n",
    "\n",
    "grids = []\n",
    "offsets = []\n",
    "for offset_x in range(0, 8):\n",
    "    for offset_y in range(0, 4):\n",
    "        offsets.append((offset_x * cell_size_m / 8 , offset_y * cell_size_m / 8))\n",
    "\n",
    "for offset_x, offset_y in tqdm(offsets):\n",
    "    hex_grid = make_equal_area_hex_grid(cell_size_m, robinson_crs, offset_x, offset_y).rename(columns={\"cell_id\": \"hex_id\"})\n",
    "    inter = gpd.sjoin(hex_grid.to_crs(sinus_crs), grids_df)\n",
    "    counts = inter[[\"hex_id\", \"cell_id\"]].groupby(\"hex_id\").count()\n",
    "    hex_ids = counts[counts.cell_id > 10].index\n",
    "    c = len(counts)\n",
    "    grids.append((offset_x, offset_y, c, hex_grid))"
   ]
  },
  {
   "cell_type": "code",
   "execution_count": null,
   "id": "7f726299-79ff-4a89-95dd-19e6f9d093ed",
   "metadata": {},
   "outputs": [],
   "source": [
    "best = pd.DataFrame([a[:3] for a in grids], columns=[\"x\", \"y\", \"ic\"])\n",
    "best = best.sort_values(\"ic\")\n",
    "best"
   ]
  },
  {
   "cell_type": "code",
   "execution_count": null,
   "id": "eccad3ab-055d-450b-a9b5-a599187be9c2",
   "metadata": {},
   "outputs": [],
   "source": [
    "best.iloc[3]"
   ]
  },
  {
   "cell_type": "code",
   "execution_count": null,
   "id": "686e090a-baf9-454b-8a2b-7ac0268df3c1",
   "metadata": {},
   "outputs": [],
   "source": [
    "hex_grid = make_equal_area_hex_grid(cell_size_m, robinson_crs, best.x.iloc[3], best.y.iloc[3]).rename(columns={\"cell_id\": \"hex_id\"})\n",
    "inter = gpd.sjoin(hex_grid.to_crs(sinus_crs), grids_df)\n",
    "counts = inter[[\"hex_id\", \"cell_id\"]].groupby(\"hex_id\").count()\n",
    "hex_ids = counts[counts.cell_id > 10].index\n",
    "hgb = hex_grid.set_index(\"hex_id\").loc[hex_ids]"
   ]
  },
  {
   "cell_type": "code",
   "execution_count": null,
   "id": "f63078fc-5344-4fdd-9118-dc5f184a1221",
   "metadata": {},
   "outputs": [],
   "source": [
    "hex_grid.to_file(\"/Users/kyledorman/data/planet_coverage/shorelines/hex_grids.gpkg"
   ]
  },
  {
   "cell_type": "code",
   "execution_count": null,
   "id": "ae4d975a-d5db-4218-9b41-afba4047bae9",
   "metadata": {},
   "outputs": [],
   "source": [
    "ids = list(range(len(hgb)))\n",
    "shuffle(ids)\n",
    "hgb[\"id\"] = ids\n",
    "\n",
    "n_ids  = hgb[\"id\"].nunique()\n",
    "base_cmap = plt.get_cmap(\"tab20\", n_ids)  # up to 20 unique colours\n",
    "cmap      = colors.ListedColormap(base_cmap(range(n_ids)))\n",
    "norm      = colors.BoundaryNorm(range(n_ids + 1), n_ids)\n",
    "\n",
    "# Pick any Cartopy projection\n",
    "proj = ccrs.Robinson()           # or ccrs.Mollweide(), ccrs.Robinson(), …\n",
    "\n",
    "fig = plt.figure(figsize=(12, 6))\n",
    "ax  = plt.axes(projection=proj)\n",
    "ax.set_global()\n",
    "\n",
    "# Re-project your data on the fly with `transform`\n",
    "hgb.plot(\n",
    "    column=\"id\",\n",
    "    ax=ax,\n",
    "    cmap=cmap,\n",
    "    norm=norm,\n",
    "    linewidth=0.05,\n",
    "    edgecolor=\"black\",\n",
    "    transform=ccrs.Robinson(),   # <- incoming lon/lat coords\n",
    ")\n",
    "import cartopy\n",
    "# ax.add_feature(cartopy.feature.OCEAN, zorder=0)  # type: ignore\n",
    "# ax.add_feature(cartopy.feature.LAND, zorder=0)  # type: ignore\n",
    "ax.coastlines(resolution=\"110m\", linewidth=0.3, zorder=0)  # type: ignore\n",
    "plt.tight_layout()\n",
    "plt.savefig(\"/Users/kyledorman/Desktop/1_5deg_hex.png\")\n",
    "plt.show()"
   ]
  },
  {
   "cell_type": "code",
   "execution_count": null,
   "id": "356f78e9-07c5-4468-98d7-3667c1958238",
   "metadata": {
    "scrolled": true
   },
   "outputs": [],
   "source": [
    "mldf = gpd.read_file(SHORELINES / \"mainlands.gpkg\")\n",
    "bidf = gpd.read_file(SHORELINES / \"big_islands.gpkg\")\n",
    "sidf = gpd.read_file(SHORELINES / \"small_islands.gpkg\")"
   ]
  },
  {
   "cell_type": "code",
   "execution_count": null,
   "id": "f5524217-7cd0-4dc8-a34d-40ddb07f6125",
   "metadata": {},
   "outputs": [],
   "source": [
    "box_grid.intersects(invalid_region.to_crs(sinus).geometry).sum()"
   ]
  },
  {
   "cell_type": "code",
   "execution_count": null,
   "id": "3688b2ed-08c5-4ea2-87dc-5d909c81f0e6",
   "metadata": {},
   "outputs": [],
   "source": [
    "centroid = invalid_region.geometry.iloc[0].centroid\n",
    "base_map = folium.Map(location=[centroid.y, centroid.x], zoom_start=5, width=1000, height=800)\n",
    "\n",
    "mldf2 = gpd.read_file(SHORELINES / \"mainlands.gpkg\")\n",
    "inv_mldf = mldf2[mldf2.intersects(invalid_region.geometry.iloc[0])]\n",
    "\n",
    "for _,  row in invalid_region.iterrows():\n",
    "    folium.GeoJson(\n",
    "        row.geometry,\n",
    "        style_function=lambda feature: {\n",
    "            \"color\": \"blue\",\n",
    "            \"weight\": 1,\n",
    "        }\n",
    "    ).add_to(base_map)\n",
    "\n",
    "for idx, row in inv_mldf.iterrows():\n",
    "    folium.GeoJson(\n",
    "        row.geometry,\n",
    "        style_function=lambda feature: {\n",
    "            \"color\": \"red\",\n",
    "            \"weight\": 1,\n",
    "        }\n",
    "    ).add_to(base_map)\n",
    "\n",
    "base_map"
   ]
  },
  {
   "cell_type": "code",
   "execution_count": null,
   "id": "ef2a95cf-a345-4da8-a633-d4bb679e6140",
   "metadata": {},
   "outputs": [],
   "source": [
    "pre_simplify_tol = 50\n",
    "sinus = \"ESRI:54008\"\n",
    "wgs = \"EPSG:4326\""
   ]
  },
  {
   "cell_type": "code",
   "execution_count": null,
   "id": "3685f9d4-a836-4cf4-bb05-695559a6666a",
   "metadata": {},
   "outputs": [],
   "source": [
    "from src.gen_points_map import compute_step, make_equal_area_grid\n",
    "\n",
    "cell_size_m = compute_step(0.05)\n",
    "box_grid = make_equal_area_grid(cell_size_m, sinus)"
   ]
  },
  {
   "cell_type": "code",
   "execution_count": null,
   "id": "3f4b269b-2c91-4e74-8a0b-2f7c9316f445",
   "metadata": {},
   "outputs": [],
   "source": [
    "mldf.geometry = mldf.buffer(0)\n",
    "bidf.geometry = bidf.buffer(0)\n",
    "sidf.geometry = sidf.buffer(0)"
   ]
  },
  {
   "cell_type": "code",
   "execution_count": null,
   "id": "9772cd2b-408d-4327-8042-7a5c9935dd76",
   "metadata": {},
   "outputs": [],
   "source": [
    "sidf_s = sidf.to_crs(sinus)"
   ]
  },
  {
   "cell_type": "code",
   "execution_count": null,
   "id": "9ae5a55e-b0ab-422c-99c3-d71b71e78e01",
   "metadata": {},
   "outputs": [],
   "source": [
    "bidf_s = bidf.to_crs(sinus)"
   ]
  },
  {
   "cell_type": "code",
   "execution_count": null,
   "id": "51dba1ea-9d56-4101-b2e2-2d3646548d05",
   "metadata": {},
   "outputs": [],
   "source": [
    "mldf_s = mldf.to_crs(sinus)"
   ]
  },
  {
   "cell_type": "code",
   "execution_count": null,
   "id": "bb351562-cbcb-4568-ba3f-f885b55acaa4",
   "metadata": {},
   "outputs": [],
   "source": [
    "sidf_s.geometry = sidf_s.geometry.simplify(pre_simplify_tol, preserve_topology=True)\n",
    "sidf_s.is_valid.all()"
   ]
  },
  {
   "cell_type": "code",
   "execution_count": null,
   "id": "17ff5230-952b-47a7-a122-fcd9014a6450",
   "metadata": {},
   "outputs": [],
   "source": [
    "bidf_s.geometry = bidf_s.geometry.simplify(pre_simplify_tol, preserve_topology=True)\n",
    "bidf_s.is_valid.all()"
   ]
  },
  {
   "cell_type": "code",
   "execution_count": null,
   "id": "7b1c2d5b-ffc5-43bf-8c71-7bafaa162f04",
   "metadata": {},
   "outputs": [],
   "source": [
    "invalid = ~bidf_s.geometry.is_valid\n",
    "bidf_s.loc[invalid, \"geometry\"] = bidf_s.geometry[invalid].buffer(0)\n",
    "bidf_s.is_valid.all()"
   ]
  },
  {
   "cell_type": "code",
   "execution_count": null,
   "id": "2c55f284-a368-4aa8-9e95-b7b512398a0e",
   "metadata": {},
   "outputs": [],
   "source": [
    "mldf_s.geometry = mldf_s.geometry.simplify(pre_simplify_tol, preserve_topology=True)\n",
    "mldf_s.is_valid.all()"
   ]
  },
  {
   "cell_type": "code",
   "execution_count": null,
   "id": "f1a654c9-c76a-464b-aeb9-bc0f8c5b7860",
   "metadata": {},
   "outputs": [],
   "source": [
    "land_union = gpd.GeoSeries(\n",
    "    pd.concat([mldf_s.geometry, bidf_s.geometry], ignore_index=True),\n",
    "    crs=sinus,\n",
    ").union_all()"
   ]
  },
  {
   "cell_type": "code",
   "execution_count": null,
   "id": "c6aed599-62fb-492c-ad93-6ac797ee1479",
   "metadata": {},
   "outputs": [],
   "source": [
    "land_union.is_valid"
   ]
  },
  {
   "cell_type": "code",
   "execution_count": null,
   "id": "d92bf49e-ffe4-49f6-a161-811663760112",
   "metadata": {},
   "outputs": [],
   "source": [
    "ca_only = gpd.read_file(SHORELINES / \"oregon.geojson\").to_crs(sinus)\n",
    "ca_only.is_valid"
   ]
  },
  {
   "cell_type": "code",
   "execution_count": null,
   "id": "c515b0b3-1c19-4422-b032-7b7c2b42a39e",
   "metadata": {},
   "outputs": [],
   "source": [
    "ca_land = land_union.intersection(ca_only.iloc[0])\n",
    "\n",
    "ca_land.geometry"
   ]
  },
  {
   "cell_type": "code",
   "execution_count": null,
   "id": "f94c42e9-0ba6-4d30-a10f-2805fc794a70",
   "metadata": {},
   "outputs": [],
   "source": [
    "simp_land_union = land_union.simplify(500, preserve_topology=True)\n",
    "simp_land_union.is_valid"
   ]
  },
  {
   "cell_type": "code",
   "execution_count": null,
   "id": "11e3de7a-78fb-43f1-ac87-f8c596274143",
   "metadata": {},
   "outputs": [],
   "source": [
    "invalids = []\n",
    "valids = []\n",
    "for poly in simp_land_union.geoms:\n",
    "    if not poly.is_valid:\n",
    "        invalids.append(poly)\n",
    "    else:\n",
    "        valids.append(poly)\n",
    "\n",
    "invalid_df = gpd.GeoDataFrame(geometry=invalids, crs=sinus)\n",
    "invalid_df.geometry = invalid_df.geometry.buffer(0)\n",
    "\n",
    "simp_land_union_clean = MultiPolygon(valids + invalid_df.geometry.tolist()).buffer(0)\n",
    "simp_land_union_clean.is_valid"
   ]
  },
  {
   "cell_type": "code",
   "execution_count": null,
   "id": "b928005a-e35a-4ae2-98ef-7e335a5d8820",
   "metadata": {},
   "outputs": [],
   "source": [
    "type(simp_land_union_clean)"
   ]
  },
  {
   "cell_type": "code",
   "execution_count": null,
   "id": "0a29c403-e54b-4f50-95a6-366b47be44ba",
   "metadata": {
    "scrolled": true
   },
   "outputs": [],
   "source": [
    "keep = []\n",
    "for poly in simp_land_union_clean.geoms:\n",
    "    if poly.intersects(ca_only.iloc[0][0]):\n",
    "        keep.append(poly)\n",
    "\n",
    "ca_land_union = MultiPolygon(keep)"
   ]
  },
  {
   "cell_type": "code",
   "execution_count": null,
   "id": "21a54bd1-ef63-4999-b3fb-4a7069439a68",
   "metadata": {},
   "outputs": [],
   "source": [
    "from shapely import segmentize, get_coordinates\n",
    "get_coordinates(poly.boundary.segmentize(100)).shape"
   ]
  },
  {
   "cell_type": "code",
   "execution_count": null,
   "id": "75007229-1180-4cca-8440-7b489bab8afe",
   "metadata": {},
   "outputs": [],
   "source": [
    "ca_grids = box_grid[box_grid.geometry.within(ca_only.iloc[0][0])]\n",
    "\n",
    "len(ca_grids)"
   ]
  },
  {
   "cell_type": "code",
   "execution_count": null,
   "id": "dc61571e-499f-4e98-b454-2ffe6d2f575e",
   "metadata": {},
   "outputs": [],
   "source": [
    "coast_pts = []\n",
    "for poly in ca_land_union.geoms:\n",
    "    coast_pts.append(get_coordinates(poly.boundary.segmentize(1000)))\n",
    "coast_xy = np.concatenate(coast_pts)\n",
    "\n",
    "coast_xy.shape"
   ]
  },
  {
   "cell_type": "code",
   "execution_count": null,
   "id": "05c82af1-c9c9-4f2b-866e-58677fdf4b21",
   "metadata": {},
   "outputs": [],
   "source": [
    "from scipy.spatial import cKDTree\n",
    "tree = cKDTree(coast_xy)"
   ]
  },
  {
   "cell_type": "code",
   "execution_count": null,
   "id": "0efdf59f-b013-4efc-b3a9-399b52766f54",
   "metadata": {},
   "outputs": [],
   "source": [
    "centers = ca_grids.geometry.centroid\n",
    "cent_xy = np.column_stack((centers.x.values, centers.y.values))  # type: ignore"
   ]
  },
  {
   "cell_type": "code",
   "execution_count": null,
   "id": "de4111fa-c00e-4b69-9daf-b9644e65e838",
   "metadata": {},
   "outputs": [],
   "source": [
    "dists, _ = tree.query(cent_xy, workers=-1)  # parallel threads, SciPy ≥1.9"
   ]
  },
  {
   "cell_type": "code",
   "execution_count": null,
   "id": "8ad126ba-9354-4f81-ba54-5f9188e729f3",
   "metadata": {},
   "outputs": [],
   "source": [
    "ca_grids[\"dist_km\"] = dists / 1000"
   ]
  },
  {
   "cell_type": "code",
   "execution_count": null,
   "id": "df0e55bd-3570-40b1-abbb-d161d4040511",
   "metadata": {},
   "outputs": [],
   "source": [
    "ca_grids.dist_km.min(), ca_grids.dist_km.max()"
   ]
  },
  {
   "cell_type": "code",
   "execution_count": null,
   "id": "727a7e7c-3187-4e28-a71a-06406d7793f0",
   "metadata": {},
   "outputs": [],
   "source": [
    "(ca_grids.dist_km < 100).sum()"
   ]
  },
  {
   "cell_type": "code",
   "execution_count": null,
   "id": "76414005-a4c3-4705-8363-f8b181cafb4e",
   "metadata": {},
   "outputs": [],
   "source": [
    "cxy = [Point(*xy) for xy in coast_xy]"
   ]
  },
  {
   "cell_type": "code",
   "execution_count": null,
   "id": "b448ac44-266e-4141-8c8c-afef2f515165",
   "metadata": {},
   "outputs": [],
   "source": [
    "from branca.colormap import linear\n",
    "from folium.plugins import MarkerCluster\n",
    "\n",
    "color_scale = linear.viridis.scale(0, 100)\n",
    "cent = ca_only.to_crs(wgs).iloc[0][0].centroid\n",
    "\n",
    "m = folium.Map(\n",
    "    location=[cent.y, cent.x], \n",
    "    zoom_start=5, \n",
    "    tiles=\"CartoDB positron\",\n",
    "    width=1000,\n",
    "    height=800\n",
    ")\n",
    "\n",
    "for _, row in ca_grids[(ca_grids.dist_km < 40) & (ca_grids.dist_km > 20)].to_crs(wgs).iterrows():\n",
    "    value = row[\"dist_km\"]\n",
    "    geom = row.geometry\n",
    "    folium.GeoJson(\n",
    "        data=geom,\n",
    "        style_function=lambda f, col=color_scale(value): {\n",
    "            \"fillColor\": col,\n",
    "            \"color\":     col,      # outline same as fill\n",
    "            \"weight\":    1,\n",
    "            \"fillOpacity\": 0.7,\n",
    "        },\n",
    "        tooltip=f\"{row.cell_id}: {value:0.1f}\",\n",
    "    ).add_to(m)\n",
    "\n",
    "\n",
    "# pts = gpd.GeoDataFrame(geometry=cxy, crs=sinus).to_crs(wgs)\n",
    "# for _, row in pts.iterrows():\n",
    "#     folium.CircleMarker(\n",
    "#         location=[row.geometry.y, row.geometry.x],\n",
    "#         radius=2,\n",
    "#         fill=True,\n",
    "#         fill_opacity=0.6,\n",
    "#         color=None,\n",
    "#         fill_color=\"red\",\n",
    "#     ).add_to(m)\n",
    "\n",
    "color_scale.add_to(m)\n",
    "\n",
    "m"
   ]
  },
  {
   "cell_type": "code",
   "execution_count": null,
   "id": "3ac6c266-45d1-4367-b33c-1451ed823d9a",
   "metadata": {},
   "outputs": [],
   "source": []
  }
 ],
 "metadata": {
  "kernelspec": {
   "display_name": "Python 3 (ipykernel)",
   "language": "python",
   "name": "python3"
  },
  "language_info": {
   "codemirror_mode": {
    "name": "ipython",
    "version": 3
   },
   "file_extension": ".py",
   "mimetype": "text/x-python",
   "name": "python",
   "nbconvert_exporter": "python",
   "pygments_lexer": "ipython3",
   "version": "3.12.3"
  }
 },
 "nbformat": 4,
 "nbformat_minor": 5
}
