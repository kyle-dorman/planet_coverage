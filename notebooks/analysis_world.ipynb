{
 "cells": [
  {
   "cell_type": "markdown",
   "id": "997513c2-5c95-4bb9-944e-c1d7379903d8",
   "metadata": {},
   "source": [
    "# DuckDB + Parquet Data Exploration Template"
   ]
  },
  {
   "cell_type": "code",
   "execution_count": null,
   "id": "c4a8991d-9b51-4869-8aa1-7199bd7cc168",
   "metadata": {},
   "outputs": [],
   "source": [
    "import duckdb\n",
    "import pandas as pd\n",
    "import geopandas as gpd\n",
    "import numpy as np\n",
    "import matplotlib.pyplot as plt\n",
    "import folium\n",
    "from branca.colormap import linear\n",
    "from pathlib import Path\n",
    "from tqdm import tqdm\n",
    "import json\n",
    "from IPython.display import display\n",
    "import shapely"
   ]
  },
  {
   "cell_type": "markdown",
   "id": "3eb8fff9-14d0-46f0-86a6-826aa299b5f8",
   "metadata": {},
   "source": [
    "# --- Configuration ---"
   ]
  },
  {
   "cell_type": "code",
   "execution_count": null,
   "id": "76d7d488-22fa-4e4f-8f03-75b024e60d49",
   "metadata": {},
   "outputs": [],
   "source": [
    "BASE = Path(\"/Users/kyledorman/data/planet_coverage/ca_only/\")  # <-- update this\n",
    "\n",
    "# Example path patterns\n",
    "f_pattern = \"*/coastal_results/*/*/*/coastal_points.parquet\"\n",
    "all_files_pattern = str(BASE / f_pattern)\n",
    "\n",
    "# Combined list used later when we search individual files\n",
    "all_parquets = list(BASE.glob(f_pattern))\n",
    "\n",
    "IDX = 1\n",
    "hex_id = f\"{IDX:06x}\"  # unique 6‑digit hex, e.g. '0f1a2b'\n",
    "d1, d2, d3 = hex_id[:2], hex_id[2:4], hex_id[4:6]\n",
    "GRID_PATH = BASE / \"dove\" / \"coastal_results\" / d1 / d2 / d3\n",
    "FILE = GRID_PATH / \"coastal_points.parquet\"\n",
    "\n",
    "assert FILE.exists()\n",
    "\n",
    "len(all_parquets)"
   ]
  },
  {
   "cell_type": "code",
   "execution_count": null,
   "id": "356f78e9-07c5-4468-98d7-3667c1958238",
   "metadata": {},
   "outputs": [],
   "source": [
    "# Create the base map centered on the calculated location\n",
    "ca_ocean = gpd.read_file(BASE / \"ca_ocean.geojson\")\n",
    "query_df = gpd.read_file(BASE / \"ocean_grids.gpkg\").to_crs(ca_ocean.crs)\n",
    "grids_df = gpd.read_file(BASE / \"coastal_grids.gpkg\").to_crs(ca_ocean.crs).rename(columns={\"cell_id\": \"grid_id\"})\n",
    "\n",
    "query_ca = query_df[query_df.geometry.intersects(ca_ocean.union_all())]\n",
    "grids_ca = grids_df[grids_df.geometry.intersects(query_ca.union_all())]\n",
    "\n",
    "len(grids_ca), len(query_ca)"
   ]
  },
  {
   "cell_type": "code",
   "execution_count": null,
   "id": "2480c470-81a9-46ad-8025-1c48449dfb1e",
   "metadata": {},
   "outputs": [],
   "source": [
    "# Create the base map centered on the calculated location\n",
    "x = grids_df.geometry.centroid.x.mean()\n",
    "y = grids_df.geometry.centroid.y.mean()\n",
    "base_map = folium.Map(location=[y, x], zoom_start=4, width=1000, height=800)\n",
    "\n",
    "# Add each GeoJSON file to the map\n",
    "# Add polygons to the map\n",
    "for _, row in grids_df.iterrows():\n",
    "    pt = row[\"geometry\"].centroid\n",
    "    cell_id = row[\"cell_id\"]\n",
    "    folium.CircleMarker(\n",
    "        location=[pt.y, pt.x],\n",
    "        radius=0.5,\n",
    "        color=\"red\",\n",
    "        fill=True,\n",
    "        fill_opacity=0.3,\n",
    "        popup=str(cell_id),\n",
    "    ).add_to(base_map)\n",
    "\n",
    "for _, row in grids_df.iterrows():\n",
    "    pt = row[\"geometry\"].centroid\n",
    "    cell_id = row[\"cell_id\"]\n",
    "    folium.CircleMarker(\n",
    "        location=[pt.y, pt.x],\n",
    "        radius=0.5,\n",
    "        color=\"red\",\n",
    "        fill=True,\n",
    "        fill_opacity=0.3,\n",
    "        popup=str(cell_id),\n",
    "    ).add_to(base_map)\n",
    "\n",
    "# Display the map\n",
    "base_map"
   ]
  },
  {
   "cell_type": "code",
   "execution_count": null,
   "id": "929171dd-9ced-4508-b24a-cf1c6c1b3296",
   "metadata": {},
   "outputs": [],
   "source": [
    "# --- Connect to DuckDB ---\n",
    "con = duckdb.connect()"
   ]
  },
  {
   "cell_type": "code",
   "execution_count": null,
   "id": "f7262dee-6b6f-4fa2-ad49-d84fc7b20173",
   "metadata": {},
   "outputs": [],
   "source": [
    "# Register a view for all files\n",
    "con.execute(\n",
    "    f\"\"\"\n",
    "    CREATE OR REPLACE VIEW samples_all AS\n",
    "    SELECT * FROM read_parquet('{all_files_pattern}');\n",
    "\"\"\"\n",
    ")"
   ]
  },
  {
   "cell_type": "code",
   "execution_count": null,
   "id": "6cdecbcf-919b-4c11-93b3-03dd314cd9c0",
   "metadata": {},
   "outputs": [],
   "source": [
    "# Register a view for a single file for faster iteration\n",
    "con.execute(f\"\"\"\n",
    "    CREATE OR REPLACE VIEW samples_one AS\n",
    "    SELECT * FROM '{FILE}'\n",
    "\"\"\")"
   ]
  },
  {
   "cell_type": "code",
   "execution_count": null,
   "id": "1101d648-fc96-4a1f-a244-2f26cf323747",
   "metadata": {},
   "outputs": [],
   "source": [
    "def plot_df(df, column_name, title, radius=6):\n",
    "    # --- Folium map for % ---\n",
    "    if df[column_name].max() == df[column_name].min():\n",
    "        scale_min = 0\n",
    "    else:\n",
    "        scale_min = df[column_name].min()\n",
    "    color_scale = linear.viridis.scale(scale_min, df[column_name].max())\n",
    "    \n",
    "    m = folium.Map(\n",
    "        location=[df.geometry.centroid.y.mean(), df.geometry.centroid.x.mean()], \n",
    "        zoom_start=5, \n",
    "        tiles=\"CartoDB positron\",\n",
    "        width=1000,\n",
    "        height=600\n",
    "    )\n",
    "    \n",
    "    for _, row in df.iterrows():\n",
    "        value = row[column_name]\n",
    "        centroid = row.geometry.centroid\n",
    "        folium.CircleMarker(\n",
    "            location=[centroid.y, centroid.x],\n",
    "            radius=radius,\n",
    "            fill=True,\n",
    "            fill_opacity=0.7,\n",
    "            color=None,\n",
    "            fill_color=color_scale(value),\n",
    "            popup=f\"Grid ID: {row.cell_id}<br>{column_name}: {value:.2f}\"\n",
    "        ).add_to(m)\n",
    "    \n",
    "    color_scale.caption = title\n",
    "    color_scale.add_to(m)\n",
    "    \n",
    "    return m"
   ]
  },
  {
   "cell_type": "code",
   "execution_count": null,
   "id": "cdcefaf4-8e38-4ea6-930c-c7a53f38ec0d",
   "metadata": {},
   "outputs": [],
   "source": [
    "# --- Load Geo Points and Join ---\n",
    "\n",
    "geo_plot = gpd.read_file(\"../extracted/skysat_sample_count.gpkg\")\n",
    "plot_df(geo_plot[geo_plot.sample_count > 1.0], \"sample_count\", \"Sample Count SkySat\", 3)\n"
   ]
  },
  {
   "cell_type": "code",
   "execution_count": null,
   "id": "006a5c8f-5dbb-4de2-90fd-6f377556bbd5",
   "metadata": {},
   "outputs": [],
   "source": [
    "# --- Load Geo Points and Join ---\n",
    "\n",
    "geo_plot_sample_count_dove = gpd.read_file(\"../extracted/dove_sample_count.gpkg\")\n",
    "\n",
    "plot_df(geo_plot_sample_count_dove[geo_plot_sample_count_dove.sample_count > 1.0], \"sample_count\", \"Sample Count PSScene\", 3)"
   ]
  },
  {
   "cell_type": "code",
   "execution_count": null,
   "id": "ab9a1c51-6cc6-4b48-84ff-208eaa737f87",
   "metadata": {},
   "outputs": [],
   "source": [
    "# Set up a 2×2 grid of histograms\n",
    "fig, axes = plt.subplots(2, 2, figsize=(12, 8))\n",
    "axes = axes.flatten()\n",
    "\n",
    "\n",
    "# 2. Plotting all four angle columns\n",
    "for ax, col in zip(axes, [\"satellite_azimuth\", \"sun_azimuth\", \"sun_elevation\", \"view_angle\"]):\n",
    "    df_hist = pd.read_csv(f\"../extracted/hist_{col}.csv\")\n",
    "\n",
    "    ax.bar(df_hist[\"centers\"], df_hist['count'], width=df_hist[\"widths\"] * 0.9)\n",
    "    ax.set_title(f\"Histogram of {col.replace('_',' ').title()}\")\n",
    "    ax.set_xlabel(col.replace('_',' ').title())\n",
    "    ax.set_ylabel(\"Frequency\")\n",
    "    \n",
    "fig.tight_layout()\n",
    "plt.show()"
   ]
  },
  {
   "cell_type": "code",
   "execution_count": null,
   "id": "8109f890-da29-4721-982a-f60f932c0bd4",
   "metadata": {},
   "outputs": [],
   "source": [
    "yes_samples = geo_plot_sample_count_dove.sample_count > 1.0"
   ]
  },
  {
   "cell_type": "code",
   "execution_count": null,
   "id": "1b8bcb49-91a3-4ac1-8be7-ec7813a254d6",
   "metadata": {},
   "outputs": [],
   "source": [
    "# --- Fraction of finalized per Grid Point ---\n",
    "\n",
    "geo_plot = gpd.read_file(\"../extracted/publishing_stage_pct.gpkg\")\n",
    "plot_df(geo_plot[yes_samples], \"frac_publishing_stage\", \"Fraction of Preview Observations\", 3)"
   ]
  },
  {
   "cell_type": "code",
   "execution_count": null,
   "id": "93a13560-8456-40df-99ab-fbf35bfa2ba8",
   "metadata": {},
   "outputs": [],
   "source": [
    "# --- Fraction analysis ready data per Grid Point ---\n",
    "\n",
    "geo_plot = gpd.read_file(\"../extracted/pct_ground_control.gpkg\")\n",
    "plot_df(geo_plot[yes_samples], \"frac_ground_control\", \"Fraction of ground_control Observations\", 3)"
   ]
  },
  {
   "cell_type": "code",
   "execution_count": null,
   "id": "d700358a-96ee-4861-9747-5227f65e18a5",
   "metadata": {},
   "outputs": [],
   "source": [
    "GRID_ID = 634\n",
    "hex_id = f\"{GRID_ID:06x}\"  # unique 6‑digit hex, e.g. '0f1a2b'\n",
    "d1, d2, d3 = hex_id[:2], hex_id[2:4], hex_id[4:6]\n",
    "one_grid_pattern = f'/Users/kyledorman/data/planet_coverage/points_30km/*/results/2023/{d1}/{d2}/{d3}/ocean.parquet'\n",
    "\n",
    "# Register a view for all files\n",
    "con.execute(\n",
    "    f\"\"\"\n",
    "    CREATE OR REPLACE VIEW samples_grid AS\n",
    "    SELECT * FROM read_parquet('{one_grid_pattern}');\n",
    "\"\"\"\n",
    ")"
   ]
  },
  {
   "cell_type": "code",
   "execution_count": null,
   "id": "9997a9a2-cec7-47ec-8efe-223b29d35395",
   "metadata": {},
   "outputs": [],
   "source": [
    "import polars as pl\n",
    "\n",
    "GRID_ID = 634\n",
    "hex_id = f\"{GRID_ID:06x}\"  # unique 6‑digit hex, e.g. '0f1a2b'\n",
    "d1, d2, d3 = hex_id[:2], hex_id[2:4], hex_id[4:6]\n",
    "\n",
    "for s in [\"dove\", \"skysat\"]:\n",
    "    for y in [\"2024\", \"2023\"]:\n",
    "        GRID_PATH = BASE / s / \"results\" / y / d1 / d2 / d3\n",
    "        file = GRID_PATH / \"ocean.parquet\"\n",
    "        if not file.exists():\n",
    "            print(s, y, \"None\")\n",
    "            continue\n",
    "        df = pl.read_parquet(file)\n",
    "        print(s, y, len(df))\n",
    "        "
   ]
  },
  {
   "cell_type": "code",
   "execution_count": null,
   "id": "e74837ee-af5b-4ea7-9bae-cc0d1385956e",
   "metadata": {},
   "outputs": [],
   "source": [
    "# --- Schema Inspection ---\n",
    "print(\"Schema of samples_grid:\")\n",
    "df = con.execute(\"DESCRIBE samples_grid\").fetchdf()\n",
    "print(df)\n",
    "\n",
    "cols = ['cell_id', 'item_type', 'instrument', 'has_8_channel ', 'has_sr_asset', 'quality_category', 'ground_control', 'publishing_stage']\n",
    "for col in cols:\n",
    "    df = con.execute(f\"SELECT DISTINCT {col} from samples_grid\").fetchdf()\n",
    "    display(df.head())"
   ]
  },
  {
   "cell_type": "code",
   "execution_count": null,
   "id": "a416a054-b13d-48c8-b783-630ae2442ae9",
   "metadata": {},
   "outputs": [],
   "source": [
    "import polars as pl\n",
    "from src.create_ocean_df import SCHEMA\n",
    "\n",
    "# how many minutes tolerance\n",
    "n = 10\n",
    "\n",
    "query = f\"\"\"\n",
    "SELECT\n",
    "  a.cell_id,\n",
    "  a.acquired,\n",
    "  a.clear_percent,\n",
    "  a.quality_category,\n",
    "  a.publishing_stage,\n",
    "  a.geometry_wkb,\n",
    "  b.acquired         AS ps_acquired,\n",
    "  b.clear_percent    AS ps_clear_percent,\n",
    "  b.quality_category AS ps_quality_category,\n",
    "  b.publishing_stage AS ps_publishing_stage,\n",
    "  b.geometry_wkb     AS ps_geometry_wkb,\n",
    "FROM samples_grid AS a\n",
    "INNER JOIN samples_grid AS b\n",
    "  ON a.item_type = 'SkySatCollect'\n",
    "  AND b.item_type = 'PSScene'\n",
    "  -- within n minutes before or after\n",
    "  AND b.acquired BETWEEN\n",
    "        a.acquired - INTERVAL '{n}' MINUTE\n",
    "    AND a.acquired + INTERVAL '{n}' MINUTE\n",
    "\"\"\"\n",
    "\n",
    "result = con.execute(query).fetchdf()\n",
    "result[\"geometry\"] = result[\"geometry_wkb\"].apply(lambda b: shapely.wkb.loads(bytes(b)))\n",
    "result[\"ps_geometry\"] = result[\"ps_geometry_wkb\"].apply(lambda b: shapely.wkb.loads(bytes(b)))\n",
    "\n",
    "print(len(result))\n",
    "\n",
    "# result now has every SkySatCollect row plus the matched PSScene cols\n",
    "result.head()"
   ]
  },
  {
   "cell_type": "code",
   "execution_count": null,
   "id": "f8e72d87-eead-4729-95ea-6fd7c0fa64bd",
   "metadata": {},
   "outputs": [],
   "source": [
    "gdf = gpd.GeoDataFrame(result, geometry=\"geometry\", crs=\"EPSG:4326\")\n",
    "ps_gdf = gpd.GeoDataFrame(result, geometry=\"ps_geometry\", crs=\"EPSG:4326\")\n",
    "\n",
    "x = gdf.geometry.centroid.x.mean()\n",
    "y = gdf.geometry.centroid.y.mean()\n",
    "base_map = folium.Map(location=[y, x], zoom_start=5, width=1000, height=800)\n",
    "\n",
    "# Add each GeoJSON file to the map\n",
    "# Add polygons to the map\n",
    "for _, row in result.iterrows():\n",
    "    folium.GeoJson(\n",
    "        row[\"geometry\"],\n",
    "        style_function=lambda feature: {\n",
    "            \"color\": \"green\",\n",
    "            \"weight\": 2,\n",
    "        },\n",
    "    ).add_to(base_map)\n",
    "    folium.GeoJson(\n",
    "        row[\"ps_geometry\"],\n",
    "        style_function=lambda feature: {\n",
    "            \"color\": \"red\",\n",
    "            \"weight\": 2,\n",
    "        },\n",
    "    ).add_to(base_map)\n",
    "\n",
    "# Display the map\n",
    "base_map"
   ]
  },
  {
   "cell_type": "code",
   "execution_count": null,
   "id": "36b242b8-1d7b-42c5-aaba-2532892a5624",
   "metadata": {},
   "outputs": [],
   "source": []
  }
 ],
 "metadata": {
  "kernelspec": {
   "display_name": "Python 3 (ipykernel)",
   "language": "python",
   "name": "python3"
  },
  "language_info": {
   "codemirror_mode": {
    "name": "ipython",
    "version": 3
   },
   "file_extension": ".py",
   "mimetype": "text/x-python",
   "name": "python",
   "nbconvert_exporter": "python",
   "pygments_lexer": "ipython3",
   "version": "3.11.11"
  }
 },
 "nbformat": 4,
 "nbformat_minor": 5
}
