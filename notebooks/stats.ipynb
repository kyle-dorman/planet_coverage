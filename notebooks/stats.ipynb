{
 "cells": [
  {
   "cell_type": "code",
   "execution_count": null,
   "id": "72d0cef6-775c-434b-b743-4473d01c31cd",
   "metadata": {},
   "outputs": [],
   "source": [
    "import warnings\n",
    "from pathlib import Path\n",
    "\n",
    "import matplotlib.pyplot as plt\n",
    "import pandas as pd\n",
    "import geopandas as gpd\n",
    "\n",
    "from src.plotting.util import load_grids, plot_gdf_column\n",
    "\n",
    "warnings.filterwarnings(\"ignore\")  # hide every warning"
   ]
  },
  {
   "cell_type": "code",
   "execution_count": null,
   "id": "b0e4b12d-6179-47a5-b8dd-89110bdd0d0b",
   "metadata": {},
   "outputs": [],
   "source": [
    "BASE = Path(\"/Users/kyledorman/data/planet_coverage/points_30km/\")\n",
    "SHORELINES = BASE.parent / \"shorelines\""
   ]
  },
  {
   "cell_type": "code",
   "execution_count": null,
   "id": "4b8a01e4-84f1-49b3-8fd2-374ea5a82795",
   "metadata": {},
   "outputs": [],
   "source": [
    "query_df, all_grids_df, hex_grid = load_grids(SHORELINES)\n",
    "MIN_DIST = 20.0\n",
    "lats = all_grids_df.centroid.y\n",
    "valid = ~all_grids_df.is_land & ~all_grids_df.dist_km.isna() & (all_grids_df.dist_km < MIN_DIST) & (lats > -81.5) & (lats < 81.5)\n",
    "grids_df = all_grids_df[valid].copy()"
   ]
  },
  {
   "cell_type": "code",
   "execution_count": null,
   "id": "212f08ea-118a-4254-9a55-762ff55218b7",
   "metadata": {},
   "outputs": [],
   "source": [
    "counts = grids_df[grids_df.hex_id >=0].hex_id.value_counts()\n",
    "\n",
    "print((counts < 15).sum())\n",
    "\n",
    "size = 10\n",
    "\n",
    "# Step 2: Plot a histogram of these counts\n",
    "plt.figure(figsize=(10, 6))\n",
    "plt.hist(counts, bins=range(0, counts.max() + size, size))  # bin by sizes\n",
    "plt.xlabel('Number of rows per hex_id')\n",
    "plt.ylabel('Number of hex_ids')\n",
    "plt.title('Distribution of Row Counts per hex_id')\n",
    "plt.tight_layout()\n",
    "plt.savefig(\"/Users/kyledorman/data/planet_coverage/figs/displays/hex_grid_counts.png\")\n",
    "plt.show()"
   ]
  },
  {
   "cell_type": "code",
   "execution_count": null,
   "id": "9ce1cd0c-319c-421b-b06f-0bccbe79214b",
   "metadata": {},
   "outputs": [],
   "source": [
    "hex_counts = hex_grid.join(counts, how='inner').rename(columns={\"count\": \"grid_count\"})\n",
    "hex_counts"
   ]
  },
  {
   "cell_type": "code",
   "execution_count": null,
   "id": "0600183a-fbcc-403d-8312-eeb31586c3bb",
   "metadata": {},
   "outputs": [],
   "source": [
    "plot_gdf_column(\n",
    "    hex_counts,\n",
    "    'grid_count',\n",
    "    show=True,\n",
    "    save_path=\"/Users/kyledorman/data/planet_coverage/figs/displays/hex_counts.png\",\n",
    "    vmax=30,\n",
    ")"
   ]
  },
  {
   "cell_type": "code",
   "execution_count": null,
   "id": "b0664af1-1359-494d-bf24-1abfffba015a",
   "metadata": {},
   "outputs": [],
   "source": [
    "plot_gdf_column(\n",
    "    hex_counts[hex_counts.grid_count < 30],\n",
    "    'grid_count',\n",
    "    show=True,\n",
    "    save_path=\"/Users/kyledorman/data/planet_coverage/figs/displays/hex_counts_filtered.png\",\n",
    ")"
   ]
  },
  {
   "cell_type": "code",
   "execution_count": null,
   "id": "298503fe-d1f5-454c-a971-ee42db361d2d",
   "metadata": {},
   "outputs": [],
   "source": [
    "plot_gdf_column(\n",
    "    hex_counts[hex_counts.grid_count >= 20],\n",
    "    'grid_count',\n",
    "    show=True,\n",
    "    save_path=\"/Users/kyledorman/data/planet_coverage/figs/displays/hex_counts_filtered_rem.png\",\n",
    ")"
   ]
  }
 ],
 "metadata": {
  "kernelspec": {
   "display_name": "Python 3 (ipykernel)",
   "language": "python",
   "name": "python3"
  },
  "language_info": {
   "codemirror_mode": {
    "name": "ipython",
    "version": 3
   },
   "file_extension": ".py",
   "mimetype": "text/x-python",
   "name": "python",
   "nbconvert_exporter": "python",
   "pygments_lexer": "ipython3",
   "version": "3.12.3"
  }
 },
 "nbformat": 4,
 "nbformat_minor": 5
}
